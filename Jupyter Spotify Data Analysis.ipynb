{
 "cells": [
  {
   "attachments": {},
   "cell_type": "markdown",
   "metadata": {},
   "source": [
    "## Data Analysis Spotify"
   ]
  },
  {
   "attachments": {},
   "cell_type": "markdown",
   "metadata": {},
   "source": [
    "Learning Intentions:\n",
    "\n",
    "Specify the functional requirements of a data analysis, including stating the purpose of a solution, describing use cases, and developing test cases of inputs and expected outputs.\\\n",
    "Specify the non-functional requirements of a data analysis.\n",
    "\n",
    "Success Criteria:\n",
    "\n",
    "I can clearly state the purpose of a data analysis solution.\\\n",
    "I can describe use cases that outline how the data analysis solution will be used.\\\n",
    "I can develop test cases that include inputs and expected outputs for the data analysis solution.\\\n",
    "I can specify non-functional requirements such as performance, scalability, security, and usability for a data analysis solution.\n",
    "I can explain the importance of non-functional requirements in ensuring the overall quality and effectiveness of a data analysis solution.\\\n",
    "bean\n",
    "\n"
   ]
  },
  {
   "attachments": {},
   "cell_type": "markdown",
   "metadata": {},
   "source": [
    "### Functional requirements\n",
    "\n",
    "#### Purpose\\\n",
    "Cleaning, "
   ]
  }
 ],
 "metadata": {
  "kernelspec": {
   "display_name": "Python 3",
   "language": "python",
   "name": "python3"
  },
  "language_info": {
   "codemirror_mode": {
    "name": "ipython",
    "version": 3
   },
   "file_extension": ".py",
   "mimetype": "text/x-python",
   "name": "python",
   "nbconvert_exporter": "python",
   "pygments_lexer": "ipython3",
   "version": "3.9.2"
  },
  "orig_nbformat": 4
 },
 "nbformat": 4,
 "nbformat_minor": 2
}
