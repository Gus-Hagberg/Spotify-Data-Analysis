{
 "cells": [
  {
   "attachments": {},
   "cell_type": "markdown",
   "metadata": {},
   "source": [
    "## Data Analysis Spotify"
   ]
  },
  {
   "attachments": {},
   "cell_type": "markdown",
   "metadata": {},
   "source": [
    "### Identifying and Defining\n",
    "\n",
    "The purpose of this data analysis solution is to be able to provide useful insight onto the most streamed songs and trends in this e.g. artists, genre.\\\n",
    "Possible use cases of this data analysis solution are for music producers to know which genres would be most profitable to make an album in at the moment with what the viewerbase is most interested in.\n",
    "\n",
    "\n",
    "Data: Most Streamed Spotify Songs 2024\\\n",
    "Goal: Extract information relevent to music producers for them to make the most educated decisions on what could bring in more renevue for future albums.\\\n",
    "Source: https://www.kaggle.com/datasets/nelgiriyewithana/most-streamed-spotify-songs-2024\\\n",
    "Access: Public (Kaggle)\\\n",
    "Access Method: .csv"
   ]
  },
  {
   "attachments": {},
   "cell_type": "markdown",
   "metadata": {},
   "source": [
    "### Functional Requirements\n",
    "\n",
    "#### **Data Loading:**\n",
    "Description: .csv files must be able to be loaded\\\n",
    "Input: User adds .csv file to folder\\\n",
    "Output: Program is able to analyse dataset\n",
    "#### **Data Cleaning:**\n",
    "Description: Have error messages with cause included (e.g. incorrect format, missing files, missing values will have the message say that it's missing).\\\n",
    "Input: Program detects error\\\n",
    "Output: Program prints an error message with cause\n",
    "#### **Data Analysis:**\n",
    "Description: The function Requires a mean, median, and mode function through using those keywords.\\\n",
    "Input: User enters: mean(column)     (or replace mean with median or mode)\\\n",
    "Output: Program prints out the mean of mentioned value area of the data set    (Will print out the median or mode section of the data set is those keywords are used)\n",
    "#### **Data Visualisation:**\n",
    "Description: The program will use Pandas dataframes to display information that the user has chosen to display.\\\n",
    "Input: display(Column A, Column D)\\\n",
    "Output: Program displays columns A and D\n",
    "#### **Data Reporting:**\n",
    "Data Reporting: What output should the system include, and do we need to store the final dataset somewhere (e.g. .csv or .txt file)?\\\n",
    "Description: Saves the final dataset to a new .csv file\\\n",
    "Input: save.csv(Most Streamed Spotify Songs 2024)\n",
    "Output: Final dataset is saved to a new .csv file"
   ]
  },
  {
   "attachments": {},
   "cell_type": "markdown",
   "metadata": {},
   "source": [
    "### **Use Cases**\n",
    "Actor: Music Producer\\\n",
    "Goal: To find what genres have the highest median streams per artist for a new artist.\\\n",
    "Preconditions: None.\\\n",
    "Main Flow:\\\n",
    "1. User places the dataset for reading into the correct folder.\\\n",
    "2. System validates the file format.\\\n",
    "3. System loads the dataset and displays the information in a dataframe.\\\n",
    "4. Postconditions: Dataset is loaded and ready for analysis.\\\n"
   ]
  },
  {
   "attachments": {},
   "cell_type": "markdown",
   "metadata": {},
   "source": [
    "### **Non-Functional Requirements**\n",
    "**Usability:**\n",
    "What is required from the User Interface and a 'README' document?**\\\n",
    "\n",
    "\n",
    "**Reliability:**\n",
    "What is required from the system when providing information to the user on errors and ensuring data integrity?\\\n"
   ]
  },
  {
   "attachments": {},
   "cell_type": "markdown",
   "metadata": {},
   "source": [
    "## **Researching and Planning**"
   ]
  },
  {
   "attachments": {},
   "cell_type": "markdown",
   "metadata": {},
   "source": [
    "##### **Learning Intentions:**\n",
    "Collect and interpret data while adhering to privacy and cybersecurity principles.\\\n",
    "Represent and store data to facilitate computation, including selecting appropriate data types, understanding data type limitations, and structuring data systematically.\n",
    "##### **Success Criteria:**\n",
    "I can collect data following established privacy and cybersecurity principles to ensure data protection.\\\n",
    "I can interpret data while maintaining compliance with privacy regulations and cybersecurity practices.\\\n",
    "I can select appropriate data types for representing and storing data to facilitate computation.\\\n",
    "I can structure data systematically to support efficient computation and analysis.\\"
   ]
  },
  {
   "attachments": {},
   "cell_type": "markdown",
   "metadata": {},
   "source": [
    "\n",
    "#### **Research of Chosen Issue**\n",
    "1. Purpose: We've already looked at this a little, but let's clearly articulate what you're trying to find out and why it is important using further research.\n",
    "2. Missing Data: Explain why you feel it is necessary to carry out this analysis, with explicit reference to what the current data / information you have found is missing.\n",
    "3. Stakeholders: Who will benefit from the information you create? \n",
    "4. Use: How can the information you obtain from this data analysis be used for or by those who benefit?"
   ]
  },
  {
   "attachments": {},
   "cell_type": "markdown",
   "metadata": {},
   "source": [
    "\n",
    "1. Purpose\\\n",
    "    The purpose of this data analysis is to \n",
    "2. Missing Data\\\n",
    "    It's necessary to carry out this analysis with explicit reference to what the current data / information is missing as with messages mentioning the absence of data, the analysis will still be able to provide important data to the stakeholders.\n",
    "3. Stakeholders\\\n",
    "    The stakeholders who will benefit from the information created from this dataset are upcoming artists, producers and other streaming services.\n",
    "4. \n"
   ]
  }
 ],
 "metadata": {
  "kernelspec": {
   "display_name": "Python 3",
   "language": "python",
   "name": "python3"
  },
  "language_info": {
   "codemirror_mode": {
    "name": "ipython",
    "version": 3
   },
   "file_extension": ".py",
   "mimetype": "text/x-python",
   "name": "python",
   "nbconvert_exporter": "python",
   "pygments_lexer": "ipython3",
   "version": "3.9.2"
  },
  "orig_nbformat": 4
 },
 "nbformat": 4,
 "nbformat_minor": 2
}
