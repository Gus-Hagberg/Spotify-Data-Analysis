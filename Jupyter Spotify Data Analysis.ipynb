{
 "cells": [
  {
   "attachments": {},
   "cell_type": "markdown",
   "metadata": {},
   "source": [
    "## Data Analysis Spotify"
   ]
  },
  {
   "attachments": {},
   "cell_type": "markdown",
   "metadata": {},
   "source": [
    "### Identifying and Defining\n",
    "\n",
    "The purpose of this data analysis solution is to be able to provide useful insight onto the most streamed songs and trends in this e.g. artists, genre.\\\n",
    "Possible use cases of this data analysis solution are for music producers to know which genres would be most profitable to make an album in at the moment with what the viewerbase is most interested in.\n",
    "\n",
    "\n",
    "Data: Most Streamed Spotify Songs 2024\\\n",
    "Goal: Extract information relevent to music producers for them to make the most educated decisions on what could bring in more renevue for future albums.\\\n",
    "Source: https://www.kaggle.com/datasets/nelgiriyewithana/most-streamed-spotify-songs-2024\\\n",
    "Access: Public (Kaggle)\\\n",
    "Access Method: .csv"
   ]
  },
  {
   "attachments": {},
   "cell_type": "markdown",
   "metadata": {},
   "source": [
    "### Functional Requirements\n",
    "\n",
    "#### **Data Loading:**\n",
    "Description: .csv files must be able to be loaded\\\n",
    "Input: User adds .csv file to folder\\\n",
    "Output: Program is able to analyse dataset\n",
    "#### **Data Cleaning:**\n",
    "Description: Have error messages with cause included (e.g. incorrect format, missing files, missing values will have the message say that it's missing).\\\n",
    "Input: Program detects error\\\n",
    "Output: Program prints an error message with cause\n",
    "#### **Data Analysis:**\n",
    "Description: The function Requires a mean, median, and mode function through using those keywords.\\\n",
    "Input: User enters: mean(column)     (or replace mean with median or mode)\\\n",
    "Output: Program prints out the mean of mentioned value area of the data set    (Will print out the median or mode section of the data set is those keywords are used)\n",
    "#### **Data Visualisation:**\n",
    "Description: The program will use Pandas dataframes to display information that the user has chosen to display.\\\n",
    "Input: display(Column A, Column D)\\\n",
    "Output: Program displays columns A and D\n",
    "#### **Data Reporting:**\n",
    "Data Reporting: What output should the system include, and do we need to store the final dataset somewhere (e.g. .csv or .txt file)?\\\n",
    "Description: Saves the final dataset to a new .csv file\\\n",
    "Input: save.csv(Most Streamed Spotify Songs 2024)\n",
    "Output: Final dataset is saved to a new .csv file"
   ]
  },
  {
   "attachments": {},
   "cell_type": "markdown",
   "metadata": {},
   "source": [
    "### **Use cases**\n",
    "Actor: User\\\n",
    "Goal: To load a dataset into the system.\\\n",
    "Preconditions: User has a dataset file ready.\\\n",
    "Main Flow:\\\n",
    "1. User places the dataset for reading into the correct folder.\\\n",
    "2. System validates the file format.\\\n",
    "3. System loads the dataset and displays the information in a dataframe.\\\n",
    "4. Postconditions: Dataset is loaded and ready for analysis.\\\n",
    "\n",
    "\n",
    "Actor: Music Producer\\\n",
    "Goal: To find what genres have the highest median streams per artist.\\\n",
    "Preconditions: None.\\\n",
    "Main Flow:\\\n",
    "1. User places the dataset for reading into the correct folder.\\\n",
    "2. System validates the file format.\\\n",
    "3. System loads the dataset and displays the information in a dataframe.\\\n",
    "4. Postconditions: Dataset is loaded and ready for analysis.\\\n"
   ]
  },
  {
   "attachments": {},
   "cell_type": "markdown",
   "metadata": {},
   "source": [
    "### **Non-Functional Requirements**\n",
    "#### **Usability: What is required from the User Interface and a 'README' document?**\n",
    "\n",
    "Reliability: What is required from the system when providing information to the user on errors and ensuring data integrity?"
   ]
  }
 ],
 "metadata": {
  "kernelspec": {
   "display_name": "Python 3",
   "language": "python",
   "name": "python3"
  },
  "language_info": {
   "codemirror_mode": {
    "name": "ipython",
    "version": 3
   },
   "file_extension": ".py",
   "mimetype": "text/x-python",
   "name": "python",
   "nbconvert_exporter": "python",
   "pygments_lexer": "ipython3",
   "version": "3.9.2"
  },
  "orig_nbformat": 4
 },
 "nbformat": 4,
 "nbformat_minor": 2
}
