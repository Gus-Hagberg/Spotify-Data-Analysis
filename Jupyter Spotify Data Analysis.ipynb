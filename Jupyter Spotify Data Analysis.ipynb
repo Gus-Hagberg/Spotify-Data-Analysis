{
 "cells": [
  {
   "attachments": {},
   "cell_type": "markdown",
   "metadata": {},
   "source": [
    "## Data Analysis Spotify"
   ]
  },
  {
   "attachments": {},
   "cell_type": "markdown",
   "metadata": {},
   "source": [
    "### Identifying and Defining\n",
    "\n",
    "The purpose of this data analysis solution is to be able to provide useful insight onto the most streamed songs and trends in this e.g. artists, genre.\\\n",
    "Possible use cases of this data analysis solution are for music producers to know which genres would be most profitable to make an album in at the moment with what the viewerbase is most interested in.\n",
    "\n",
    "\n",
    "Data: Most Streamed Spotify Songs 2023\\\n",
    "Goal: Extract information relevent to music producers and people who are curious/interested about what the statistics are.\\\n",
    "Source: https://www.kaggle.com/datasets/nelgiriyewithana/most-streamed-spotify-songs-2024\\\n",
    "Access: Public (Kaggle)\\\n",
    "Access Method: .csv"
   ]
  },
  {
   "attachments": {},
   "cell_type": "markdown",
   "metadata": {},
   "source": [
    "### Functional Requirements\n",
    "\n",
    "#### **Data Loading:**\n",
    "Description: .csv files must be able to be loaded\\\n",
    "Input: User adds .csv file to folder\\\n",
    "Output: Program is able to analyse dataset\n",
    "#### **Data Cleaning:**\n",
    "Description: Have error messages with cause included (e.g. incorrect format, missing files, missing values will have the message say that it's missing).\\\n",
    "Input: Program detects error\\\n",
    "Output: Program prints an error message with cause\n",
    "#### **Data Analysis:**\n",
    "Description: The function Requires a mean, median, and mode function through using those keywords.\\\n",
    "Input: User enters: mean(column)     (or replace mean with median or mode)\\\n",
    "Output: Program prints out the mean of mentioned value area of the data set    (Will print out the median or mode section of the data set is those keywords are used)\n",
    "#### **Data Visualisation:**\n",
    "**Description**: The program will use Pandas dataframes to display information that the user has chosen to display.\\\n",
    "**Input**: display(Column A, Column D)\\\n",
    "**Output**: Program displays columns A and D\n",
    "#### **Data Reporting:**\n",
    "Data Reporting: What output should the system include, and do we need to store the final dataset somewhere (e.g. .csv or .txt file)?\\\n",
    "Description: Saves the final dataset to a new .csv file\\\n",
    "Input: save.csv(Most Streamed Spotify Songs 2023)\n",
    "Output: Final dataset is saved to a new .csv file"
   ]
  },
  {
   "attachments": {},
   "cell_type": "markdown",
   "metadata": {},
   "source": [
    "### **Use Cases**\n",
    "Actor: User\\\n",
    "Goal: To display the full dataset.\\\n",
    "Preconditions: None\\\n",
    "Main Flow:\n",
    "2. User enters 1\n",
    "3. System loads the complete dataset and displays the information in a dataframe.\n",
    "\n",
    "Actor: User\\\n",
    "Goal: To load a data frame comparing the danceability of songs to their instrumentalness and energy.\\\n",
    "Preconditions: None\\\n",
    "Main Flow:\n",
    "1. User enters 2\n",
    "2. System produces a 100 row dataframe of goal.\n",
    "\n",
    "Actor: User\\\n",
    "Goal: To compare energy of songs with their bpm.\\\n",
    "Preconditions: None\\\n",
    "Main Flow:\n",
    "1. User enters 3\n",
    "2. System produces a 100 row dataframe of goal.\n",
    "\n",
    "Actor: User\\\n",
    "Goal: To calculate statistics surrounding the spotify dataset.\\\n",
    "Preconditions: None\\\n",
    "Main Flow:\n",
    "1. User enters 4\n",
    "2. Program prompts for a calculation method: mean, median or mode.\n",
    "3. Program prompts for a category of the dataset.\n",
    "4. Program prints the calculation\n",
    "\n",
    "Actor: User\\\n",
    "Goal: To quit the program.\\\n",
    "Preconditions: Program must be running\\\n",
    "Main Flow:\n",
    "1. User enters 5\n",
    "2. Program quits.\n",
    "\n",
    "\n"
   ]
  },
  {
   "attachments": {},
   "cell_type": "markdown",
   "metadata": {},
   "source": [
    "### **Non-Functional Requirements**\n",
    "**Usability:**\n",
    "What is required from the User Interface and a 'README' document?**\n",
    "\n",
    "**Reliability:**\n",
    "What is required from the system when providing information to the user on errors and ensuring data integrity?\n"
   ]
  },
  {
   "attachments": {},
   "cell_type": "markdown",
   "metadata": {},
   "source": [
    "## **Researching and Planning**"
   ]
  },
  {
   "attachments": {},
   "cell_type": "markdown",
   "metadata": {},
   "source": [
    "##### **Learning Intentions:**\n",
    "Collect and interpret data while adhering to privacy and cybersecurity principles.\\\n",
    "Represent and store data to facilitate computation, including selecting appropriate data types, understanding data type limitations, and structuring data systematically.\n",
    "##### **Success Criteria:**\n",
    "I can collect data following established privacy and cybersecurity principles to ensure data protection.\\\n",
    "I can interpret data while maintaining compliance with privacy regulations and cybersecurity practices.\\\n",
    "I can select appropriate data types for representing and storing data to facilitate computation.\\\n",
    "I can structure data systematically to support efficient computation and analysis.\\"
   ]
  },
  {
   "attachments": {},
   "cell_type": "markdown",
   "metadata": {},
   "source": [
    "\n",
    "1. Purpose\\\n",
    "    The purpose of this data analysis is to extract information from the data on the most streamed spotify songs 2024 and provide insights on how and why songs go well, and what genres and types of musics have larger presences on other platforms.\n",
    "2. Missing Data\\\n",
    "    It's necessary to carry out this analysis with explicit reference to what the current data / information is missing as with messages mentioning the absence of data, the analysis will still be able to provide important data to the stakeholders.\n",
    "3. Stakeholders\\\n",
    "    The stakeholders who will benefit from the information created from this dataset are upcoming artists, producers, music analysts, enthusiasts, and other streaming services.\n",
    "4. Use\\ \n",
    "    The information obtained from this data anylist can be used for artists finding what platofrms will be best to publish their music on, what genres perform better per person."
   ]
  },
  {
   "attachments": {},
   "cell_type": "markdown",
   "metadata": {},
   "source": [
    "##### **Privacy and Security**\n",
    "Have you given consideration to how you can adhere to privacy and cyber security principles? Think back to our scaffold for the written task where we explored government guidelines, and to your theory modules where we looked at these concepts:\n",
    "\n",
    "Data Privacy of Source: Look at where you are sourcing your data. Outline the data that the source needs to protect and explain their responsibilities in protecting their participant's privacy.\n",
    "\n",
    "Application Data Privacy: What are your responsibilities in maintaining user privacy in terms of this data? Is any data identifiable? Describe your responsibilities If you were to push this application out to the general public.\n",
    "\n",
    "Cyber Security: Research what features an application should have in order to maintain cybersecurity once it is available on the web. Explain the terms user authentication, password hashing and encryption. \n"
   ]
  },
  {
   "attachments": {},
   "cell_type": "markdown",
   "metadata": {},
   "source": [
    "**Data Privacy of source:**\n",
    "    The data that this source needs to protect are the names of all the individual artists and ensure that only stage/given names are available to see.\n",
    "**Application Data Privacy:**\n",
    "   Responsibilities in maintaining user privacy in terms of this data are \n",
    "**Cyber Security**\n",
    "   Features the application should have in order to maintain cybersecurity once it is available on the web are user authentication, password hashing and encryption. **User Authentication** is where when a person goes to use the program, they need to create/login with an account ensuring that what they do is only available to them, and prevents other people from accessing their datasets or analysed information. **Password Hashing** is where the strings of passwords will become completely random strings of letters. The same string will always produce the same hash but there is no correlation between letters or words that would let you decypher them. This means that when you enter a password the server operators wouldn't have it available to them but they can still know that you know it. **Password Encryption** is where the letters are scrambled but there would be a key for receiving parties to decipher the encrypted code.\n"
   ]
  },
  {
   "cell_type": "code",
   "execution_count": 6,
   "metadata": {},
   "outputs": [
    {
     "name": "stdout",
     "output_type": "stream",
     "text": [
      "Field                     Datatype   Format for Display   Description                                                  Example         Validation                              \n",
      "artist_count              int64      N                    Number of artists involved in the song.                      3               Must be a whole number.                 \n",
      "released_year             int64      YYYY                 Year the song was released.                                  2023            Must be a 4-digit year.                 \n",
      "released_month            int64      MM                   Month the song was released.                                 8               Must be a valid month number between 1 and 12.\n",
      "released_day              int64      DD                   Day the song was released.                                   23              Must be a valid day number based on the month.\n",
      "in_spotify_playlists      int64      N                    Number of Spotify playlists featuring the song.              124             Must be a whole number.                 \n",
      "in_spotify_charts         bool       True/False           Whether the song is featured in Spotify charts.              1               Must be a boolean value.                \n",
      "streams                   int64      N                    Number of times the song has been streamed.                  1250000         Must be a whole number.                 \n",
      "in_apple_playlists        int64      N                    Number of Apple playlists featuring the song.                98              Must be a whole number.                 \n",
      "in_apple_charts           bool       True/False           Whether the song is featured in Apple charts.                1               Must be a boolean value.                \n",
      "in_deezer_playlists       int64      N                    Number of Deezer playlists featuring the song.               43              Must be a whole number.                 \n",
      "in_deezer_charts          bool       True/False           Whether the song is featured in Deezer charts.               0               Must be a boolean value.                \n",
      "in_shazam_charts          bool       True/False           Whether the song is featured in Shazam charts.               1               Must be a boolean value.                \n",
      "bpm                       float64    NNN.NN               Beats per minute (tempo) of the song.                        120.5           Must be a decimal number.               \n",
      "danceability_%            float64    NN.N%                Danceability percentage of the song.                         72.5            Must be a decimal number representing a percentage.\n",
      "valence_%                 float64    NN.N%                Valence percentage of the song (musical positivity).         45.7            Must be a decimal number representing a percentage.\n",
      "energy_%                  float64    NN.N%                Energy percentage of the song.                               85.4            Must be a decimal number representing a percentage.\n",
      "acousticness_%            float64    NN.N%                Acousticness percentage of the song.                         15.2            Must be a decimal number representing a percentage.\n",
      "instrumentalness_%        float64    NN.N%                Instrumentalness percentage of the song.                     0.1             Must be a decimal number representing a percentage.\n",
      "liveness_%                float64    NN.N%                Liveness percentage of the song (likelihood of the presence of an audience). 32.8            Must be a decimal number representing a percentage.\n",
      "speechiness_%             float64    NN.N%                Speechiness percentage of the song (amount of spoken words). 7.9             Must be a decimal number representing a percentage.\n"
     ]
    }
   ],
   "source": [
    "# Data dictionary\n",
    "data_dictionary = {\n",
    "    1: [\"artist_count\", \"int64\", \"N\", \"Number of artists involved in the song.\", 3, \"Must be a whole number.\"],\n",
    "    2: [\"released_year\", \"int64\", \"YYYY\", \"Year the song was released.\", 2023, \"Must be a 4-digit year.\"],\n",
    "    3: [\"released_month\", \"int64\", \"MM\", \"Month the song was released.\", 8, \"Must be a valid month number between 1 and 12.\"],\n",
    "    4: [\"released_day\", \"int64\", \"DD\", \"Day the song was released.\", 23, \"Must be a valid day number based on the month.\"],\n",
    "    5: [\"in_spotify_playlists\", \"int64\", \"N\", \"Number of Spotify playlists featuring the song.\", 124, \"Must be a whole number.\"],\n",
    "    6: [\"in_spotify_charts\", \"bool\", \"True/False\", \"Whether the song is featured in Spotify charts.\", True, \"Must be a boolean value.\"],\n",
    "    7: [\"streams\", \"int64\", \"N\", \"Number of times the song has been streamed.\", 1250000, \"Must be a whole number.\"],\n",
    "    8: [\"in_apple_playlists\", \"int64\", \"N\", \"Number of Apple playlists featuring the song.\", 98, \"Must be a whole number.\"],\n",
    "    9: [\"in_apple_charts\", \"bool\", \"True/False\", \"Whether the song is featured in Apple charts.\", True, \"Must be a boolean value.\"],\n",
    "    10: [\"in_deezer_playlists\", \"int64\", \"N\", \"Number of Deezer playlists featuring the song.\", 43, \"Must be a whole number.\"],\n",
    "    11: [\"in_deezer_charts\", \"bool\", \"True/False\", \"Whether the song is featured in Deezer charts.\", False, \"Must be a boolean value.\"],\n",
    "    12: [\"in_shazam_charts\", \"bool\", \"True/False\", \"Whether the song is featured in Shazam charts.\", True, \"Must be a boolean value.\"],\n",
    "    13: [\"bpm\", \"float64\", \"NNN.NN\", \"Beats per minute (tempo) of the song.\", 120.50, \"Must be a decimal number.\"],\n",
    "    14: [\"danceability_%\", \"float64\", \"NN.N%\", \"Danceability percentage of the song.\", 72.5, \"Must be a decimal number representing a percentage.\"],\n",
    "    15: [\"valence_%\", \"float64\", \"NN.N%\", \"Valence percentage of the song (musical positivity).\", 45.7, \"Must be a decimal number representing a percentage.\"],\n",
    "    16: [\"energy_%\", \"float64\", \"NN.N%\", \"Energy percentage of the song.\", 85.4, \"Must be a decimal number representing a percentage.\"],\n",
    "    17: [\"acousticness_%\", \"float64\", \"NN.N%\", \"Acousticness percentage of the song.\", 15.2, \"Must be a decimal number representing a percentage.\"],\n",
    "    18: [\"instrumentalness_%\", \"float64\", \"NN.N%\", \"Instrumentalness percentage of the song.\", 0.1, \"Must be a decimal number representing a percentage.\"],\n",
    "    19: [\"liveness_%\", \"float64\", \"NN.N%\", \"Liveness percentage of the song (likelihood of the presence of an audience).\", 32.8, \"Must be a decimal number representing a percentage.\"],\n",
    "    20: [\"speechiness_%\", \"float64\", \"NN.N%\", \"Speechiness percentage of the song (amount of spoken words).\", 7.9, \"Must be a decimal number representing a percentage.\"]\n",
    "}\n",
    "\n",
    "# Print headers\n",
    "print(\"{:<25} {:<10} {:<20} {:<60} {:<15} {:<40}\".format(\n",
    "    'Field', 'Datatype', 'Format for Display', 'Description', 'Example', 'Validation'))\n",
    "\n",
    "# Print each row in the dictionary\n",
    "for key, value in data_dictionary.items():\n",
    "    field, datatype, display_format, description, example, validation = value\n",
    "    print(\"{:<25} {:<10} {:<20} {:<60} {:<15} {:<40}\".format(\n",
    "        field, datatype, display_format, description, example, validation))\n"
   ]
  },
  {
   "cell_type": "markdown",
   "metadata": {},
   "source": [
    "# Evaluations\n",
    "### Max Perez evaluation\n",
    "Gustav fulfilled all of his functional and non functional requirements. Regarding his functional requirements, Gus was able to load and clean the data properly, loading the data into his .csv file and removing all unnecessary data. His analysis and code regarding it  worked well as all functions completely ran. His visualisation was also quite good because they all worked well. Regarding his data reporting, the file was successfully loaded and stored. His non functional requirements were also fulfilled as the READ ME included information of how to use the UI, however, he could be more specific with the reliability functions. In conclusion, Gustav had a well made UI, however, in future should work on his time management and specify his functions more.\n",
    "### Jackson Wang evaluation\n",
    "Gustav fufilled all of the critera that he set for himself in the functional and non function requirements. Regarding his functional requirements, Gustav was able to effectively clean, load and transport the data without any corruption or loss. This project reflects the effort that he put into this project and he has applied himself very well through this task. However, he could have benefitted from a better GUI and from more complexion throughout his code. In conclusion, Gustav had an excellent final product, however he could benefit in the future by spending more time making the final product more sophisticated.\n",
    "### Personal Evaluation\n",
    "This data has revealed interesting information about itself, which did struggle for accuracy at times with missing values, but where the values were present, certain trends were able to be spotted. One such example of this is with function 2 of comparing danceability with the instrumentalness of the songs and the energy percentage of the songs. There didn't seem like there was any correlation between energy and danceability but when it came to danceability and the instrumentalness there was some form of trend of the instrumentalness declining as the danceabiity percentage decreased. This is likely due to more songs that feature long instrumentals being better for dancing as it is not taken up by complicated vocals as much allowing for more focus to be on dancers. I also discovered that there appeared to be no correlation between energy percentage and bpm of the songs which surprised me, as I expected many of the slower songs to have less energy but that wasn't very visible, which in hindsight might have been more efficient to display as a line graph. The visualisation of the UI was still decently good but taking into consideration some of the feeedback on the UI, I should have managed my time better so I could allocate more time to making my UI graphical. With my functional requirements I feel I met them well as everything that the program required functioned correctly except I did not succeed in figuring out saving the new dataset to a new .csv as it just made more sense to save it as a variable in the code. When it came to reliability I could have elaborated more as per peer feedback but when it came to the program itself it never breaks when in use now and the UI itself is very clearly laid out so users should not have trouble using it. Overall this project could have benefitted from time management allowing for the aesthetics of the UI to be better, as well as elaborating more throughout the whole of the theory."
   ]
  }
 ],
 "metadata": {
  "kernelspec": {
   "display_name": "Python 3",
   "language": "python",
   "name": "python3"
  },
  "language_info": {
   "codemirror_mode": {
    "name": "ipython",
    "version": 3
   },
   "file_extension": ".py",
   "mimetype": "text/x-python",
   "name": "python",
   "nbconvert_exporter": "python",
   "pygments_lexer": "ipython3",
   "version": "3.11.9"
  },
  "orig_nbformat": 4
 },
 "nbformat": 4,
 "nbformat_minor": 2
}
