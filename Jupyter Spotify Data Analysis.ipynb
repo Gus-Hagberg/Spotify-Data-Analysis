{
 "cells": [
  {
   "attachments": {},
   "cell_type": "markdown",
   "metadata": {},
   "source": [
    "## Data Analysis Spotify"
   ]
  },
  {
   "attachments": {},
   "cell_type": "markdown",
   "metadata": {},
   "source": [
    "### Identifying and Defining\n",
    "\n",
    "The purpose of this data analysis solution is to be able to provide useful insight onto the most streamed songs and trends in this e.g. artists, genre.\\\n",
    "Possible use cases of this data analysis solution are for music producers to know which genres would be most profitable to make an album in at the moment with what the viewerbase is most interested in.\n",
    "\n",
    "\n",
    "Data: Most Streamed Spotify Songs 2024\\\n",
    "Goal: Extract information relevent to music producers for them to make the most educated decisions on what could bring in more renevue for future albums.\\\n",
    "Source: https://www.kaggle.com/datasets/nelgiriyewithana/most-streamed-spotify-songs-2024\\\n",
    "Access: Public (Kaggle)\\\n",
    "Access Method: .csv"
   ]
  },
  {
   "attachments": {},
   "cell_type": "markdown",
   "metadata": {},
   "source": [
    "### Functional Requirements\n",
    "\n",
    "*Data Loading:*\\\n",
    ".csv files must be able to be loaded\\\n",
    "Show brief description of errors and cause (e.g. format, missing files)\n",
    "Consider aspects such as ability to load certain file types and handling errors in file loading (e.g. incorrect format, missing files).\\\n",
    "Data Cleaning: Does the system need to handle missing values or allow for filtering, sorting and grouping of data?\\\n",
    "Data Analysis: What kind of statistical analysis does the system need to allow for (e.g. mean, median, mode)?\\\n",
    "Data Visualisation: How will the data need to be visualised (e.g. Pandas dataframes / Matplotlib chart types)?\\\n",
    "Data Reporting: What output should the system include, and do we need to store the final dataset somewhere (e.g. .csv or .txt file)?\n"
   ]
  }
 ],
 "metadata": {
  "kernelspec": {
   "display_name": "Python 3",
   "language": "python",
   "name": "python3"
  },
  "language_info": {
   "codemirror_mode": {
    "name": "ipython",
    "version": 3
   },
   "file_extension": ".py",
   "mimetype": "text/x-python",
   "name": "python",
   "nbconvert_exporter": "python",
   "pygments_lexer": "ipython3",
   "version": "3.9.2"
  },
  "orig_nbformat": 4
 },
 "nbformat": 4,
 "nbformat_minor": 2
}
